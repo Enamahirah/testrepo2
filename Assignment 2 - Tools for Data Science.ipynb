{
    "cells": [
        {
            "cell_type": "markdown",
            "metadata": {
                "collapsed": true
            },
            "source": "# My Jupyter Notebook on IBM Watson Studio"
        },
        {
            "cell_type": "markdown",
            "metadata": {},
            "source": "**Aainaa Mahirah**\n\nI'm currently unemployed. I hope one day I can be someone who is working in data science field."
        },
        {
            "cell_type": "markdown",
            "metadata": {},
            "source": "_I am interested in data science because when I'm taking my degree in Mathematics, I'm exposed to data sacience and this field interest me on how data science keep growing over time. I realised on how important data science in the industry along with the fast growing technology of this world._ "
        },
        {
            "cell_type": "markdown",
            "metadata": {},
            "source": "### In following cell I will be executing the sum of two numbers"
        },
        {
            "cell_type": "code",
            "execution_count": 2,
            "metadata": {},
            "outputs": [
                {
                    "data": {
                        "text/plain": "8"
                    },
                    "execution_count": 2,
                    "metadata": {},
                    "output_type": "execute_result"
                }
            ],
            "source": "4+4"
        },
        {
            "cell_type": "markdown",
            "metadata": {},
            "source": "| T1 | T2 |\n| --- |---|\n| aa | bb |\n| cc | dd |\n\n1. Item one\n2. Item two\n3. Item three\n___\n\n+ List 1\n+ List 2\n+ List 3\n\n***\n> Blockquotes 1\n\n~~Strikethrough~~"
        }
    ],
    "metadata": {
        "kernelspec": {
            "display_name": "Python 3.8",
            "language": "python",
            "name": "python3"
        },
        "language_info": {
            "codemirror_mode": {
                "name": "ipython",
                "version": 3
            },
            "file_extension": ".py",
            "mimetype": "text/x-python",
            "name": "python",
            "nbconvert_exporter": "python",
            "pygments_lexer": "ipython3",
            "version": "3.8.12"
        }
    },
    "nbformat": 4,
    "nbformat_minor": 1
}